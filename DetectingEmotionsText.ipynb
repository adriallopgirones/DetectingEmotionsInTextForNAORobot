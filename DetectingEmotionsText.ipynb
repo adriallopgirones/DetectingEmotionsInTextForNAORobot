{
 "cells": [
  {
   "cell_type": "code",
   "execution_count": 21,
   "metadata": {},
   "outputs": [
    {
     "name": "stderr",
     "output_type": "stream",
     "text": [
      "[nltk_data] Downloading package wordnet to\n",
      "[nltk_data]     /Users/adriallopgirones/nltk_data...\n",
      "[nltk_data]   Package wordnet is already up-to-date!\n",
      "[nltk_data] Downloading package punkt to\n",
      "[nltk_data]     /Users/adriallopgirones/nltk_data...\n",
      "[nltk_data]   Package punkt is already up-to-date!\n",
      "[nltk_data] Downloading package averaged_perceptron_tagger to\n",
      "[nltk_data]     /Users/adriallopgirones/nltk_data...\n",
      "[nltk_data]   Package averaged_perceptron_tagger is already up-to-\n",
      "[nltk_data]       date!\n",
      "[nltk_data] Downloading package stopwords to\n",
      "[nltk_data]     /Users/adriallopgirones/nltk_data...\n",
      "[nltk_data]   Package stopwords is already up-to-date!\n"
     ]
    }
   ],
   "source": [
    "import pandas as pd\n",
    "import numpy as np\n",
    "from sklearn import utils\n",
    "from spellchecker import SpellChecker\n",
    "import nltk\n",
    "import string\n",
    "nltk.download('wordnet')\n",
    "nltk.download('punkt')\n",
    "nltk.download('averaged_perceptron_tagger')\n",
    "nltk.download('stopwords')\n",
    "from nltk.stem import WordNetLemmatizer\n",
    "from nltk.corpus import wordnet\n",
    "from nltk.corpus import stopwords\n",
    "from gensim.models import Word2Vec\n",
    "from sklearn.feature_extraction.text import TfidfVectorizer\n",
    "from sklearn.model_selection import GridSearchCV\n",
    "from sklearn.pipeline import Pipeline\n",
    "from sklearn.tree import DecisionTreeClassifier\n",
    "from sklearn.linear_model import LogisticRegression\n",
    "from sklearn.metrics import accuracy_score, classification_report, confusion_matrix\n",
    "from sklearn.linear_model import SGDClassifier\n",
    "from sklearn.naive_bayes import MultinomialNB\n",
    "from sklearn.naive_bayes import BernoulliNB\n",
    "from gensim.models import Doc2Vec\n",
    "from gensim.models.doc2vec import TaggedDocument\n",
    "from matplotlib import pyplot as plt"
   ]
  },
  {
   "cell_type": "markdown",
   "metadata": {},
   "source": [
    "# Importing Dataset "
   ]
  },
  {
   "cell_type": "code",
   "execution_count": 22,
   "metadata": {},
   "outputs": [
    {
     "name": "stdout",
     "output_type": "stream",
     "text": [
      "<class 'pandas.core.frame.DataFrame'>\n",
      "RangeIndex: 16000 entries, 0 to 15999\n",
      "Data columns (total 2 columns):\n",
      " #   Column    Non-Null Count  Dtype \n",
      "---  ------    --------------  ----- \n",
      " 0   tweets    16000 non-null  object\n",
      " 1   emotions  16000 non-null  object\n",
      "dtypes: object(2)\n",
      "memory usage: 250.1+ KB\n"
     ]
    }
   ],
   "source": [
    "df_train = pd.read_csv(\"archive/train.txt\", sep=\";\", names=[\"tweets\",\"emotions\"])\n",
    "df_test = pd.read_csv(\"archive/test.txt\", sep=\";\", names=[\"tweets\",\"emotions\"])\n",
    "df_train.info()"
   ]
  },
  {
   "cell_type": "code",
   "execution_count": 23,
   "metadata": {},
   "outputs": [
    {
     "name": "stdout",
     "output_type": "stream",
     "text": [
      "joy         5362\n",
      "sadness     4666\n",
      "anger       2159\n",
      "fear        1937\n",
      "love        1304\n",
      "surprise     572\n",
      "Name: emotions, dtype: int64\n",
      "[5362 4666 2159 1937 1304  572]\n"
     ]
    },
    {
     "data": {
      "image/png": "[encoded data removed]",
      "text/plain": [
       "<Figure size 432x288 with 1 Axes>"
      ]
     },
     "metadata": {
      "needs_background": "light"
     },
     "output_type": "display_data"
    }
   ],
   "source": [
    "print(df_train[\"emotions\"].value_counts())\n",
    "print(df_train[\"emotions\"].value_counts().values)\n",
    "\n",
    "fig = plt.figure()\n",
    "ax = fig.add_axes([0,0,1,1])\n",
    "count = df_train[\"emotions\"].value_counts().values\n",
    "emotions = ['Joy', 'Sadness', 'Anger', 'Fear', 'Love', 'Surprise']\n",
    "ax.bar(emotions,count)\n",
    "plt.show()\n"
   ]
  },
  {
   "cell_type": "markdown",
   "metadata": {},
   "source": [
    "# Preprocessing"
   ]
  },
  {
   "cell_type": "code",
   "execution_count": 24,
   "metadata": {},
   "outputs": [],
   "source": [
    "# Removing emotions love and surprise to balance the dataset\n",
    "df_train = df_train[df_train.emotions != \"love\"]\n",
    "df_train = df_train[df_train.emotions != \"surprise\"]\n",
    "\n",
    "df_test = df_test[df_test.emotions != \"love\"]\n",
    "df_test = df_test[df_test.emotions != \"surprise\"]"
   ]
  },
  {
   "cell_type": "code",
   "execution_count": 25,
   "metadata": {},
   "outputs": [],
   "source": [
    "# Lemmatization and removing stop words\n",
    "lemmatizer = WordNetLemmatizer()\n",
    "stop_words = set(stopwords.words('english')) \n",
    "\n",
    "# function to convert nltk tag to wordnet tag\n",
    "def nltk_tag_to_wordnet_tag(nltk_tag):\n",
    "    \n",
    "    if nltk_tag.startswith('J'):\n",
    "        return wordnet.ADJ\n",
    "    elif nltk_tag.startswith('V'):\n",
    "        return wordnet.VERB\n",
    "    elif nltk_tag.startswith('N'):\n",
    "        return wordnet.NOUN\n",
    "    elif nltk_tag.startswith('R'):\n",
    "        return wordnet.ADV\n",
    "    else:          \n",
    "        return None\n",
    "\n",
    "def lemmatize_sentence(sentence):\n",
    "    \n",
    "    sentence = sentence.lower()\n",
    "    sentence = sentence.translate(str.maketrans('', '', string.punctuation))\n",
    "    #tokenize the sentence and find the POS tag for each token\n",
    "    nltk_tagged = nltk.pos_tag(nltk.word_tokenize(sentence))\n",
    "    #tuple of (token, wordnet_tag)\n",
    "    wordnet_tagged = map(lambda x: (x[0], nltk_tag_to_wordnet_tag(x[1])), nltk_tagged)\n",
    "    lemmatized_sentence = []\n",
    "    for word, tag in wordnet_tagged:\n",
    "        # Removing stop words\n",
    "        if word not in stop_words:\n",
    "            if tag is None:\n",
    "                #if there is no available tag, append the token as is\n",
    "                lemmatized_sentence.append(word)\n",
    "            else:        \n",
    "                #else use the tag to lemmatize the token\n",
    "                lemmatized_sentence.append(lemmatizer.lemmatize(word, tag))\n",
    "        else:\n",
    "            continue\n",
    "            \n",
    "    return \" \".join(lemmatized_sentence)\n",
    "\n",
    "# Applying the functions\n",
    "df_train[\"tweets\"] = df_train[\"tweets\"].apply(lemmatize_sentence)\n",
    "df_test[\"tweets\"] = df_test[\"tweets\"].apply(lemmatize_sentence)\n"
   ]
  },
  {
   "cell_type": "markdown",
   "metadata": {},
   "source": [
    "# Embedding"
   ]
  },
  {
   "cell_type": "code",
   "execution_count": 26,
   "metadata": {},
   "outputs": [],
   "source": [
    "# TF-IDF Vectorization\n",
    "\n",
    "vectorizer = TfidfVectorizer(max_features=2000)\n",
    "vectors = vectorizer.fit_transform(df_train[\"tweets\"])\n",
    "feature_names = vectorizer.get_feature_names()\n",
    "dense = vectors.todense()\n",
    "denselist = dense.tolist()\n",
    "df_train_embedded_tfidf = pd.DataFrame(denselist, columns=feature_names)\n",
    "\n",
    "vectors = vectorizer.transform(df_test[\"tweets\"])\n",
    "dense = vectors.todense()\n",
    "denselist = dense.tolist()\n",
    "df_test_embedded_tfidf = pd.DataFrame(denselist, columns=feature_names)\n"
   ]
  },
  {
   "cell_type": "code",
   "execution_count": 27,
   "metadata": {},
   "outputs": [],
   "source": [
    "# Doc2vec\n",
    "train_tagged = []\n",
    "for tweet, emotion in zip(df_train[\"tweets\"], df_train[\"emotions\"]):\n",
    "    train_tagged.append(TaggedDocument(tweet.split(), emotion))\n",
    "\n",
    "test_tagged = []\n",
    "for tweet, emotion in zip(df_test[\"tweets\"], df_test[\"emotions\"]):\n",
    "    test_tagged.append(TaggedDocument(tweet.split(), emotion))\n",
    "                                                 \n",
    "model_dbow = Doc2Vec(dm=1, vector_size=1000, negative=5, hs=0, min_count=2, sample = 0, workers=4, \n",
    "                     alpha=0.025, min_alpha=0.001)\n",
    "\n",
    "model_dbow.build_vocab([x for x in train_tagged])\n",
    "\n",
    "for epoch in range(30):\n",
    "    model_dbow.train(utils.shuffle([x for x in train_tagged]), total_examples=len(train_tagged), epochs=1)\n",
    "    model_dbow.alpha -= 0.002\n",
    "    model_dbow.min_alpha = model_dbow.alpha"
   ]
  },
  {
   "cell_type": "code",
   "execution_count": 28,
   "metadata": {},
   "outputs": [],
   "source": [
    "targets, df_train_embedded_doc2vec = zip(*[(doc.tags, model_dbow.infer_vector(doc.words, steps=20)) for doc in train_tagged])\n",
    "targets2, df_test_embedded_doc2vec = zip(*[(doc.tags, model_dbow.infer_vector(doc.words, steps=20)) for doc in test_tagged])\n",
    "\n"
   ]
  },
  {
   "cell_type": "code",
   "execution_count": 74,
   "metadata": {},
   "outputs": [],
   "source": [
    "# # Testing\n",
    "# a = vectorizer.transform([\"\"])\n",
    "# prova = a.todense().tolist()\n",
    "# provant = pd.DataFrame(prova, columns=feature_names)\n",
    "# grid.predict(provant)"
   ]
  },
  {
   "cell_type": "code",
   "execution_count": null,
   "metadata": {},
   "outputs": [],
   "source": []
  },
  {
   "cell_type": "markdown",
   "metadata": {},
   "source": [
    "# Modeling"
   ]
  },
  {
   "cell_type": "code",
   "execution_count": 30,
   "metadata": {},
   "outputs": [],
   "source": [
    "def fit(model, parameters, X_train, y_train, X_test):\n",
    "    steps = [model]\n",
    "    pipeline = Pipeline(steps)\n",
    "    grid = GridSearchCV(pipeline, param_grid=parameters)\n",
    "    grid.fit(X_train, y_train)\n",
    "    \n",
    "    print(model)\n",
    "    print(grid.best_params_)\n",
    "    print(predict_score(X_test, df_test['emotions'], grid))\n",
    "    \n",
    "    return grid\n",
    "\n",
    "def predict_score(Y, Y_true, grid):\n",
    "    preds = grid.predict(Y)\n",
    "    reports.append(classification_report(preds, Y_true, [\"joy\", \"sadness\", \"anger\", \"fear\"], output_dict=True))\n",
    "    print(classification_report(preds, Y_true, [\"joy\", \"sadness\", \"anger\", \"fear\"]))\n",
    "    print(confusion_matrix(Y_true, preds, labels=[\"joy\", \"sadness\", \"anger\",\"fear\"]))\n",
    "    \n",
    "    "
   ]
  },
  {
   "cell_type": "code",
   "execution_count": 32,
   "metadata": {
    "scrolled": false
   },
   "outputs": [
    {
     "name": "stdout",
     "output_type": "stream",
     "text": [
      "td-idf\n",
      "('lr', LogisticRegression(max_iter=10000, random_state=0))\n",
      "{'lr__C': 10.0}\n",
      "              precision    recall  f1-score   support\n",
      "\n",
      "         joy       0.97      0.93      0.95       722\n",
      "     sadness       0.90      0.91      0.90       574\n",
      "       anger       0.82      0.87      0.84       260\n",
      "        fear       0.85      0.87      0.86       219\n",
      "\n",
      "    accuracy                           0.91      1775\n",
      "   macro avg       0.88      0.90      0.89      1775\n",
      "weighted avg       0.91      0.91      0.91      1775\n",
      "\n",
      "[[673  10   5   7]\n",
      " [ 29 521  19  12]\n",
      " [ 12  28 226   9]\n",
      " [  8  15  10 191]]\n",
      "None\n",
      "Doc2Vec\n"
     ]
    },
    {
     "name": "stderr",
     "output_type": "stream",
     "text": [
      "/Users/adriallopgirones/opt/anaconda3/lib/python3.8/site-packages/sklearn/utils/validation.py:68: FutureWarning: Pass labels=['joy', 'sadness', 'anger', 'fear'] as keyword args. From version 0.25 passing these as positional arguments will result in an error\n",
      "  warnings.warn(\"Pass {} as keyword args. From version 0.25 \"\n"
     ]
    },
    {
     "name": "stdout",
     "output_type": "stream",
     "text": [
      "('lr', LogisticRegression(max_iter=10000, random_state=0))\n",
      "{'lr__C': 10.0}\n",
      "              precision    recall  f1-score   support\n",
      "\n",
      "         joy       0.94      0.90      0.92       731\n",
      "     sadness       0.85      0.87      0.86       571\n",
      "       anger       0.77      0.81      0.79       262\n",
      "        fear       0.79      0.84      0.81       211\n",
      "\n",
      "    accuracy                           0.87      1775\n",
      "   macro avg       0.84      0.85      0.85      1775\n",
      "weighted avg       0.87      0.87      0.87      1775\n",
      "\n",
      "[[656  21   8  10]\n",
      " [ 46 495  28  12]\n",
      " [ 21  29 213  12]\n",
      " [  8  26  13 177]]\n",
      "None\n",
      "td-idf\n"
     ]
    },
    {
     "name": "stderr",
     "output_type": "stream",
     "text": [
      "/Users/adriallopgirones/opt/anaconda3/lib/python3.8/site-packages/sklearn/utils/validation.py:68: FutureWarning: Pass labels=['joy', 'sadness', 'anger', 'fear'] as keyword args. From version 0.25 passing these as positional arguments will result in an error\n",
      "  warnings.warn(\"Pass {} as keyword args. From version 0.25 \"\n"
     ]
    },
    {
     "name": "stdout",
     "output_type": "stream",
     "text": [
      "('dt', DecisionTreeClassifier())\n",
      "{'dt__criterion': 'gini'}\n",
      "              precision    recall  f1-score   support\n",
      "\n",
      "         joy       0.92      0.92      0.92       696\n",
      "     sadness       0.86      0.89      0.88       563\n",
      "       anger       0.84      0.81      0.82       285\n",
      "        fear       0.86      0.83      0.84       231\n",
      "\n",
      "    accuracy                           0.88      1775\n",
      "   macro avg       0.87      0.86      0.86      1775\n",
      "weighted avg       0.88      0.88      0.88      1775\n",
      "\n",
      "[[638  30  18   9]\n",
      " [ 33 501  27  20]\n",
      " [ 16  19 230  10]\n",
      " [  9  13  10 192]]\n",
      "None\n",
      "Doc2Vec\n"
     ]
    },
    {
     "name": "stderr",
     "output_type": "stream",
     "text": [
      "/Users/adriallopgirones/opt/anaconda3/lib/python3.8/site-packages/sklearn/utils/validation.py:68: FutureWarning: Pass labels=['joy', 'sadness', 'anger', 'fear'] as keyword args. From version 0.25 passing these as positional arguments will result in an error\n",
      "  warnings.warn(\"Pass {} as keyword args. From version 0.25 \"\n"
     ]
    },
    {
     "name": "stdout",
     "output_type": "stream",
     "text": [
      "('dt', DecisionTreeClassifier())\n",
      "{'dt__criterion': 'entropy'}\n",
      "              precision    recall  f1-score   support\n",
      "\n",
      "         joy       0.90      0.87      0.88       718\n",
      "     sadness       0.81      0.81      0.81       582\n",
      "       anger       0.72      0.76      0.74       260\n",
      "        fear       0.76      0.79      0.77       215\n",
      "\n",
      "    accuracy                           0.82      1775\n",
      "   macro avg       0.79      0.81      0.80      1775\n",
      "weighted avg       0.82      0.82      0.82      1775\n",
      "\n",
      "[[623  45  14  13]\n",
      " [ 62 469  35  15]\n",
      " [ 23  38 197  17]\n",
      " [ 10  30  14 170]]\n",
      "None\n",
      "td-idf\n"
     ]
    },
    {
     "name": "stderr",
     "output_type": "stream",
     "text": [
      "/Users/adriallopgirones/opt/anaconda3/lib/python3.8/site-packages/sklearn/utils/validation.py:68: FutureWarning: Pass labels=['joy', 'sadness', 'anger', 'fear'] as keyword args. From version 0.25 passing these as positional arguments will result in an error\n",
      "  warnings.warn(\"Pass {} as keyword args. From version 0.25 \"\n",
      "/Users/adriallopgirones/opt/anaconda3/lib/python3.8/site-packages/sklearn/naive_bayes.py:511: UserWarning: alpha too small will result in numeric errors, setting alpha = 1.0e-10\n",
      "  warnings.warn('alpha too small will result in numeric errors, '\n",
      "/Users/adriallopgirones/opt/anaconda3/lib/python3.8/site-packages/sklearn/naive_bayes.py:511: UserWarning: alpha too small will result in numeric errors, setting alpha = 1.0e-10\n",
      "  warnings.warn('alpha too small will result in numeric errors, '\n",
      "/Users/adriallopgirones/opt/anaconda3/lib/python3.8/site-packages/sklearn/naive_bayes.py:511: UserWarning: alpha too small will result in numeric errors, setting alpha = 1.0e-10\n",
      "  warnings.warn('alpha too small will result in numeric errors, '\n",
      "/Users/adriallopgirones/opt/anaconda3/lib/python3.8/site-packages/sklearn/naive_bayes.py:511: UserWarning: alpha too small will result in numeric errors, setting alpha = 1.0e-10\n",
      "  warnings.warn('alpha too small will result in numeric errors, '\n",
      "/Users/adriallopgirones/opt/anaconda3/lib/python3.8/site-packages/sklearn/naive_bayes.py:511: UserWarning: alpha too small will result in numeric errors, setting alpha = 1.0e-10\n",
      "  warnings.warn('alpha too small will result in numeric errors, '\n"
     ]
    },
    {
     "name": "stdout",
     "output_type": "stream",
     "text": [
      "('mnb', MultinomialNB())\n",
      "{'mnb__alpha': 0.25}\n",
      "              precision    recall  f1-score   support\n",
      "\n",
      "         joy       0.97      0.86      0.91       789\n",
      "     sadness       0.90      0.84      0.87       625\n",
      "       anger       0.66      0.90      0.76       202\n",
      "        fear       0.63      0.89      0.74       159\n",
      "\n",
      "    accuracy                           0.86      1775\n",
      "   macro avg       0.79      0.87      0.82      1775\n",
      "weighted avg       0.88      0.86      0.86      1775\n",
      "\n",
      "[[675  13   4   3]\n",
      " [ 48 522   7   4]\n",
      " [ 37  47 181  10]\n",
      " [ 29  43  10 142]]\n",
      "None\n",
      "Doc2Vec\n",
      "td-idf\n"
     ]
    },
    {
     "name": "stderr",
     "output_type": "stream",
     "text": [
      "/Users/adriallopgirones/opt/anaconda3/lib/python3.8/site-packages/sklearn/utils/validation.py:68: FutureWarning: Pass labels=['joy', 'sadness', 'anger', 'fear'] as keyword args. From version 0.25 passing these as positional arguments will result in an error\n",
      "  warnings.warn(\"Pass {} as keyword args. From version 0.25 \"\n",
      "/Users/adriallopgirones/opt/anaconda3/lib/python3.8/site-packages/sklearn/naive_bayes.py:511: UserWarning: alpha too small will result in numeric errors, setting alpha = 1.0e-10\n",
      "  warnings.warn('alpha too small will result in numeric errors, '\n",
      "/Users/adriallopgirones/opt/anaconda3/lib/python3.8/site-packages/sklearn/naive_bayes.py:511: UserWarning: alpha too small will result in numeric errors, setting alpha = 1.0e-10\n",
      "  warnings.warn('alpha too small will result in numeric errors, '\n",
      "/Users/adriallopgirones/opt/anaconda3/lib/python3.8/site-packages/sklearn/naive_bayes.py:511: UserWarning: alpha too small will result in numeric errors, setting alpha = 1.0e-10\n",
      "  warnings.warn('alpha too small will result in numeric errors, '\n",
      "/Users/adriallopgirones/opt/anaconda3/lib/python3.8/site-packages/sklearn/naive_bayes.py:511: UserWarning: alpha too small will result in numeric errors, setting alpha = 1.0e-10\n",
      "  warnings.warn('alpha too small will result in numeric errors, '\n",
      "/Users/adriallopgirones/opt/anaconda3/lib/python3.8/site-packages/sklearn/naive_bayes.py:511: UserWarning: alpha too small will result in numeric errors, setting alpha = 1.0e-10\n",
      "  warnings.warn('alpha too small will result in numeric errors, '\n"
     ]
    },
    {
     "name": "stdout",
     "output_type": "stream",
     "text": [
      "('nb', BernoulliNB())\n",
      "{'nb__alpha': 0.75}\n",
      "              precision    recall  f1-score   support\n",
      "\n",
      "         joy       0.96      0.92      0.94       721\n",
      "     sadness       0.89      0.88      0.88       583\n",
      "       anger       0.80      0.86      0.83       257\n",
      "        fear       0.79      0.83      0.81       214\n",
      "\n",
      "    accuracy                           0.89      1775\n",
      "   macro avg       0.86      0.87      0.87      1775\n",
      "weighted avg       0.89      0.89      0.89      1775\n",
      "\n",
      "[[666  15   7   7]\n",
      " [ 32 515  20  14]\n",
      " [ 12  27 221  15]\n",
      " [ 11  26   9 178]]\n",
      "None\n",
      "Doc2Vec\n"
     ]
    },
    {
     "name": "stderr",
     "output_type": "stream",
     "text": [
      "/Users/adriallopgirones/opt/anaconda3/lib/python3.8/site-packages/sklearn/utils/validation.py:68: FutureWarning: Pass labels=['joy', 'sadness', 'anger', 'fear'] as keyword args. From version 0.25 passing these as positional arguments will result in an error\n",
      "  warnings.warn(\"Pass {} as keyword args. From version 0.25 \"\n"
     ]
    }
   ],
   "source": [
    "models = [('lr', LogisticRegression(random_state=0,max_iter=10000)), \n",
    "          ('dt', DecisionTreeClassifier()),\n",
    "          ('mnb', MultinomialNB()),\n",
    "          ('nb',BernoulliNB())]\n",
    "\n",
    "parameters = [{'lr__C': [0.1,1.0,10.0]}, \n",
    "              {'dt__criterion':['gini', 'entropy']},\n",
    "              {'mnb__alpha': np.linspace(0.0, 1.0, 5)},\n",
    "              {'nb__alpha': np.linspace(0.0, 1.0, 5)}]\n",
    "\n",
    "reports = []\n",
    "\n",
    "for model, parameters_dic in zip(models, parameters):\n",
    "    print(\"td-idf\")\n",
    "    grid = fit(model, parameters_dic, df_train_embedded_tfidf, df_train[\"emotions\"], df_test_embedded_tfidf)\n",
    "    print(\"Doc2Vec\")\n",
    "    # mnb and nb cannot deal with negative val ues\n",
    "    if model[0] != \"mnb\" and model[0] != \"nb\":\n",
    "        grid = fit(model, parameters_dic, df_train_embedded_doc2vec, df_train[\"emotions\"], df_test_embedded_doc2vec)\n"
   ]
  },
  {
   "cell_type": "code",
   "execution_count": 33,
   "metadata": {},
   "outputs": [
    {
     "data": {
      "image/png": "[encoded data removed]",
      "text/plain": [
       "<Figure size 432x288 with 1 Axes>"
      ]
     },
     "metadata": {
      "needs_background": "light"
     },
     "output_type": "display_data"
    }
   ],
   "source": [
    "fig = plt.figure()\n",
    "ax = fig.add_axes([0,0,1,1])\n",
    "accuracies = [reports[0]['accuracy'], reports[2]['accuracy'], reports[4]['accuracy'], reports[5]['accuracy'] ]\n",
    "models = ['Logistic Regression', 'Decision Tree', 'MultinomialNB', 'BernouliNB']\n",
    "ax.bar(models,accuracies)\n",
    "plt.show()"
   ]
  },
  {
   "cell_type": "code",
   "execution_count": 34,
   "metadata": {},
   "outputs": [
    {
     "data": {
      "image/png": "[encoded data removed]",
      "text/plain": [
       "<Figure size 432x288 with 1 Axes>"
      ]
     },
     "metadata": {
      "needs_background": "light"
     },
     "output_type": "display_data"
    }
   ],
   "source": [
    "fig = plt.figure()\n",
    "ax = fig.add_axes([0,0,1,1])\n",
    "accuracies = [reports[1]['accuracy'], reports[3]['accuracy']]\n",
    "models = ['Logistic Regression', 'Decision Tree']\n",
    "ax.bar(models,accuracies)\n",
    "plt.show()"
   ]
  },
  {
   "cell_type": "markdown",
   "metadata": {},
   "source": [
    "# Testing the winner model"
   ]
  },
  {
   "cell_type": "code",
   "execution_count": 35,
   "metadata": {},
   "outputs": [
    {
     "name": "stdout",
     "output_type": "stream",
     "text": [
      "('lr', LogisticRegression(max_iter=10000, random_state=0))\n",
      "{'lr__C': 10.0}\n",
      "              precision    recall  f1-score   support\n",
      "\n",
      "         joy       0.97      0.93      0.95       722\n",
      "     sadness       0.90      0.91      0.90       574\n",
      "       anger       0.82      0.87      0.84       260\n",
      "        fear       0.85      0.87      0.86       219\n",
      "\n",
      "    accuracy                           0.91      1775\n",
      "   macro avg       0.88      0.90      0.89      1775\n",
      "weighted avg       0.91      0.91      0.91      1775\n",
      "\n",
      "[[673  10   5   7]\n",
      " [ 29 521  19  12]\n",
      " [ 12  28 226   9]\n",
      " [  8  15  10 191]]\n",
      "None\n"
     ]
    },
    {
     "name": "stderr",
     "output_type": "stream",
     "text": [
      "/Users/adriallopgirones/opt/anaconda3/lib/python3.8/site-packages/sklearn/utils/validation.py:68: FutureWarning: Pass labels=['joy', 'sadness', 'anger', 'fear'] as keyword args. From version 0.25 passing these as positional arguments will result in an error\n",
      "  warnings.warn(\"Pass {} as keyword args. From version 0.25 \"\n"
     ]
    }
   ],
   "source": [
    "winner_grid = fit(('lr', LogisticRegression(random_state=0,max_iter=10000)), {'lr__C': [0.1,1.0,10.0]}, df_train_embedded_tfidf, df_train[\"emotions\"], df_test_embedded_tfidf)"
   ]
  },
  {
   "cell_type": "code",
   "execution_count": 40,
   "metadata": {},
   "outputs": [
    {
     "data": {
      "text/plain": [
       "array(['fear'], dtype=object)"
      ]
     },
     "execution_count": 40,
     "metadata": {},
     "output_type": "execute_result"
    }
   ],
   "source": [
    "test_sentence = \"I'm afraid this place is not sure\"\n",
    "lemmatized_sentence = lemmatize_sentence(test_sentence)\n",
    "vectors = vectorizer.transform([lemmatized_sentence])\n",
    "dense = vectors.todense()\n",
    "denselist = dense.tolist()\n",
    "winner_grid.predict(vectors)"
   ]
  },
  {
   "cell_type": "code",
   "execution_count": 19,
   "metadata": {},
   "outputs": [
    {
     "name": "stdout",
     "output_type": "stream",
     "text": [
      "hello im take robotics class semester\n"
     ]
    }
   ],
   "source": [
    "sentence = \"Hello, I'm taking robotics class this semester\"\n",
    "print(preprocess(sentence))"
   ]
  },
  {
   "cell_type": "code",
   "execution_count": null,
   "metadata": {},
   "outputs": [],
   "source": [
    "That ice cream was delicious\n",
    "I'm mad at you for what you did\n",
    "What a terrible day I just wanna cry\n",
    "I'm afraid this place is not sure"
   ]
  },
  {
   "cell_type": "markdown",
   "metadata": {},
   "source": [
    "# Modeling - Deep Learning\n",
    "\n"
   ]
  },
  {
   "cell_type": "code",
   "execution_count": 71,
   "metadata": {},
   "outputs": [],
   "source": [
    "from tensorflow.keras.preprocessing.text import Tokenizer\n",
    "from tensorflow.keras.preprocessing.sequence import pad_sequences\n",
    "from tensorflow.keras.models import Sequential\n",
    "from tensorflow.keras.layers import Dense, Embedding, LSTM, SpatialDropout1D\n",
    "from sklearn.model_selection import train_test_split\n",
    "from tensorflow.keras.callbacks import EarlyStopping\n",
    "from tensorflow.keras.layers import Dropout"
   ]
  },
  {
   "cell_type": "code",
   "execution_count": 188,
   "metadata": {},
   "outputs": [],
   "source": [
    "Y_train = pd.get_dummies(df_train['emotions']).values"
   ]
  },
  {
   "cell_type": "code",
   "execution_count": 201,
   "metadata": {},
   "outputs": [
    {
     "name": "stdout",
     "output_type": "stream",
     "text": [
      "Epoch 1/5\n",
      "199/199 [==============================] - 506s 3s/step - loss: 1.2993 - accuracy: 0.3773 - val_loss: 1.3052 - val_accuracy: 0.3588\n",
      "Epoch 2/5\n",
      "199/199 [==============================] - 522s 3s/step - loss: 1.2949 - accuracy: 0.3761 - val_loss: 1.3025 - val_accuracy: 0.3588\n",
      "Epoch 3/5\n",
      "199/199 [==============================] - 606s 3s/step - loss: 1.2943 - accuracy: 0.3816 - val_loss: 1.3002 - val_accuracy: 0.3588\n",
      "Epoch 4/5\n",
      "199/199 [==============================] - 518s 3s/step - loss: 1.2940 - accuracy: 0.3820 - val_loss: 1.3012 - val_accuracy: 0.3588\n",
      "Epoch 5/5\n",
      "199/199 [==============================] - 604s 3s/step - loss: 1.2932 - accuracy: 0.3820 - val_loss: 1.3000 - val_accuracy: 0.3588\n"
     ]
    }
   ],
   "source": [
    "model = Sequential()\n",
    "model.add(Embedding(5000, 100, input_length=df_train_embedded_tfidf.shape[1]))\n",
    "model.add(SpatialDropout1D(0.2))\n",
    "model.add(LSTM(100, dropout=0.2, recurrent_dropout=0.2))\n",
    "model.add(Dense(4, activation='softmax'))\n",
    "model.compile(loss='categorical_crossentropy', optimizer='adam', metrics=['accuracy'])\n",
    "\n",
    "epochs = 5\n",
    "batch_size = 64\n",
    "\n",
    "\n",
    "history = model.fit(np.array(df_train_embedded_tfidf), Y_train, epochs=epochs, batch_size=batch_size,validation_split=0.1,callbacks=[EarlyStopping(monitor='val_loss', patience=3, min_delta=0.0001)])\n"
   ]
  },
  {
   "cell_type": "code",
   "execution_count": 209,
   "metadata": {},
   "outputs": [
    {
     "name": "stdout",
     "output_type": "stream",
     "text": [
      "[[0.1543434  0.14247213 0.3728585  0.33032596]\n",
      " [0.1543434  0.14247213 0.3728585  0.33032596]\n",
      " [0.1543434  0.14247213 0.3728585  0.33032596]\n",
      " ...\n",
      " [0.15434338 0.14247212 0.37285846 0.33032596]\n",
      " [0.15434338 0.14247212 0.37285846 0.33032596]\n",
      " [0.15434338 0.14247212 0.37285846 0.33032596]]\n"
     ]
    }
   ],
   "source": [
    "print(model.predict(np.array(df_test_embedded_tfidf)))\n",
    "# print(accuracy_score(model.predict(np.array(df_test['tweets']), pd.get_dummies(df_test['emotions']))))"
   ]
  },
  {
   "cell_type": "code",
   "execution_count": 49,
   "metadata": {},
   "outputs": [
    {
     "name": "stdout",
     "output_type": "stream",
     "text": [
      "1\n",
      "2\n",
      "3\n",
      "4\n"
     ]
    }
   ],
   "source": [
    "def genrange(stop, start = 0, step = 1):\n",
    "    \"\"\"Generator version of range(stop)\"\"\"\n",
    "    i = start\n",
    "    while i < stop:\n",
    "        yield i\n",
    "        i = i + step\n",
    "\n",
    "for i in genrange(5, 1):\n",
    "    print(i)"
   ]
  },
  {
   "cell_type": "code",
   "execution_count": 48,
   "metadata": {},
   "outputs": [
    {
     "name": "stdout",
     "output_type": "stream",
     "text": [
      "range(0, 5)\n"
     ]
    }
   ],
   "source": [
    "print(range(5))"
   ]
  }
 ],
 "metadata": {
  "kernelspec": {
   "display_name": "Python 3",
   "language": "python",
   "name": "python3"
  },
  "language_info": {
   "codemirror_mode": {
    "name": "ipython",
    "version": 3
   },
   "file_extension": ".py",
   "mimetype": "text/x-python",
   "name": "python",
   "nbconvert_exporter": "python",
   "pygments_lexer": "ipython3",
   "version": "3.8.3"
  }
 },
 "nbformat": 4,
 "nbformat_minor": 4
}
